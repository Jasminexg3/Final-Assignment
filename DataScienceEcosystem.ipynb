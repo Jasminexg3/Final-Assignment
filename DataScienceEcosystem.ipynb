{
 "cells": [
  {
   "cell_type": "markdown",
   "id": "4d149b43-27a2-4cac-93e6-b5f36096a3c3",
   "metadata": {},
   "source": [
    "# Data Science Tools and Ecosystem"
   ]
  },
  {
   "cell_type": "markdown",
   "id": "a4b68c9c-7e17-4d8f-9489-e0b7efecca10",
   "metadata": {},
   "source": [
    "In this notebook, Data Science Tools and Ecosystem are summarized"
   ]
  },
  {
   "cell_type": "markdown",
   "id": "abcd6f03-b0d4-4904-93aa-a6e1b4f9ba74",
   "metadata": {},
   "source": [
    "Some of the popular laguages that Data Scientists use are:\n",
    "1. Python\n",
    "2. R\n",
    "3. SQL\n",
    "4. C++\n",
    "5. Java ect,,;"
   ]
  },
  {
   "cell_type": "markdown",
   "id": "f3a3132b-ad38-4756-9425-2053ba7e445b",
   "metadata": {},
   "source": [
    "Some of the commonly used libaries used by Data Scientists inclued:\n",
    "1. TensorFlow.\n",
    "2. NumPy.\n",
    "3. SciPy.\n",
    "4. Pandas.\n",
    "5. Matplotib.\n",
    "6. Keras.\n",
    "7. Scikit-Learn.\n",
    "8. PyTorch. ect..;"
   ]
  },
  {
   "cell_type": "markdown",
   "id": "abd44283-8ea1-4a47-b473-da12c25137cd",
   "metadata": {
    "tags": []
   },
   "source": [
    "|Data Science Tools|\n",
    "|---|\n",
    "|SAS|\n",
    "|Apache Hadoop|\n",
    "|TensorFlow|"
   ]
  },
  {
   "cell_type": "markdown",
   "id": "036d88a9-e4c2-4b1e-a1ad-2b1d2d62d770",
   "metadata": {},
   "source": [
    "### Below are a few examples of evaluating arithmetic expressions in Python."
   ]
  },
  {
   "cell_type": "code",
   "execution_count": 2,
   "id": "724db78c-c59e-46ed-996e-62529fa48be3",
   "metadata": {
    "tags": []
   },
   "outputs": [
    {
     "data": {
      "text/plain": [
       "17"
      ]
     },
     "execution_count": 2,
     "metadata": {},
     "output_type": "execute_result"
    }
   ],
   "source": [
    "#this is a common arithmetic example to multiply and then add intergs\n",
    "(3*4)+5"
   ]
  },
  {
   "cell_type": "code",
   "execution_count": 3,
   "id": "e7c29bc6-2739-4896-9c34-c9e78555ed90",
   "metadata": {
    "tags": []
   },
   "outputs": [
    {
     "data": {
      "text/plain": [
       "3.3333333333333335"
      ]
     },
     "execution_count": 3,
     "metadata": {},
     "output_type": "execute_result"
    }
   ],
   "source": [
    "#this will convert 200 minutes to hours by diving by 60\n",
    "200/60"
   ]
  },
  {
   "cell_type": "markdown",
   "id": "48e94c53-5c48-47fd-8b5f-d89d6297641b",
   "metadata": {},
   "source": [
    "_Objetive_\n",
    "* List popular languages for Data Science\n",
    "* List popular libaries for Data Science\n",
    "* List of well known Data Science Tools\n",
    "* How to provied comments in the cell"
   ]
  },
  {
   "cell_type": "markdown",
   "id": "e975b98f-b7ff-491c-9f81-312677cd69e2",
   "metadata": {},
   "source": [
    "## Author\n",
    "Jasmine Gonzalez"
   ]
  },
  {
   "cell_type": "code",
   "execution_count": null,
   "id": "172efa0a-4be2-46af-822b-f1cdb1880107",
   "metadata": {},
   "outputs": [],
   "source": []
  }
 ],
 "metadata": {
  "kernelspec": {
   "display_name": "Python",
   "language": "python",
   "name": "conda-env-python-py"
  },
  "language_info": {
   "codemirror_mode": {
    "name": "ipython",
    "version": 3
   },
   "file_extension": ".py",
   "mimetype": "text/x-python",
   "name": "python",
   "nbconvert_exporter": "python",
   "pygments_lexer": "ipython3",
   "version": "3.7.12"
  }
 },
 "nbformat": 4,
 "nbformat_minor": 5
}
